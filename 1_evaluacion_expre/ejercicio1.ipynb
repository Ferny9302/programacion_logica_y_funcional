{
 "cells": [
  {
   "cell_type": "markdown",
   "metadata": {},
   "source": [
    "# Ejercicio 1\n",
    "Ejercicio 1 de evaluacioin de expresiones en Python\n",
    "\n",
    "$ \\frac {\\pi ^ 2}{6} = \\sum_{n=1}^{\\infty} \\frac{1}{n ^ 2} $"
   ]
  },
  {
   "cell_type": "code",
   "execution_count": 4,
   "metadata": {},
   "outputs": [
    {
     "name": "stdout",
     "output_type": "stream",
     "text": [
      "Valor teorico: 1.6449340668482264, Aproximacion: 1.5936632439130234\n",
      "Error: 0.05127082293520302\n"
     ]
    }
   ],
   "source": [
    "import math\n",
    "res = math.pi **2 / 6\n",
    "res2=0\n",
    "for n in range(1, 20):\n",
    "    res2+=1 / (n**2)\n",
    "\n",
    "print(f\"Valor teorico: {res}, Aproximacion: {res2}\")\n",
    "error= abs(res- res2)\n",
    "print(f\"Error: {error}\")\n",
    "\n"
   ]
  },
  {
   "cell_type": "markdown",
   "metadata": {},
   "source": [
    "### Expresion 1\n"
   ]
  },
  {
   "cell_type": "code",
   "execution_count": 2,
   "metadata": {},
   "outputs": [
    {
     "name": "stdout",
     "output_type": "stream",
     "text": [
      "19\n"
     ]
    }
   ],
   "source": [
    "resultado = 3 + 4 * 2 ** 2\n",
    "print(resultado) #¿cual crees que es el resultado?"
   ]
  },
  {
   "cell_type": "markdown",
   "metadata": {},
   "source": [
    "### Ejercicio 1 Evaluación de expresiones en Python\n",
    "\n",
    "#1\n",
    "expr1 = (3 + 2) * 4 \n",
    "1. Se realiza primero la sumatoria del 3 + 2\n",
    "2. El resultado de la sumatoria se multiplica por el 4"
   ]
  },
  {
   "cell_type": "code",
   "execution_count": 9,
   "metadata": {},
   "outputs": [
    {
     "name": "stdout",
     "output_type": "stream",
     "text": [
      "20\n"
     ]
    }
   ],
   "source": [
    "resultado = (3+2) * 4\n",
    "print(resultado)"
   ]
  },
  {
   "cell_type": "markdown",
   "metadata": {},
   "source": [
    "#2\n",
    "expr2 = 2 * 3 ** 2 \n",
    "1. Se eleva el 3 al cuadrado(^2)\n",
    "2. Al final se multiplica por el 2"
   ]
  },
  {
   "cell_type": "code",
   "execution_count": 10,
   "metadata": {},
   "outputs": [
    {
     "name": "stdout",
     "output_type": "stream",
     "text": [
      "18\n"
     ]
    }
   ],
   "source": [
    "resultado = 2 * 3 ** 2\n",
    "print(resultado)"
   ]
  },
  {
   "cell_type": "markdown",
   "metadata": {},
   "source": [
    "#3\n",
    "expr3 = 10 // 3 + 2\n",
    "1. Se realiza primero la division en entero\n",
    "2. Se suma al final con el 2"
   ]
  },
  {
   "cell_type": "code",
   "execution_count": 11,
   "metadata": {},
   "outputs": [
    {
     "name": "stdout",
     "output_type": "stream",
     "text": [
      "5\n"
     ]
    }
   ],
   "source": [
    "resultado = 10 // 3 + 2\n",
    "print(resultado)"
   ]
  },
  {
   "cell_type": "markdown",
   "metadata": {},
   "source": [
    "#4\n",
    "expr4 = 17 % 5 * 2\n",
    "1. Se realiza primero la division de 17 entre 5 solo que el simbolo de % da el residuo y como da entero queda 2 \n",
    "2. al final se multiplica por 2 y da 4"
   ]
  },
  {
   "cell_type": "code",
   "execution_count": 12,
   "metadata": {},
   "outputs": [
    {
     "name": "stdout",
     "output_type": "stream",
     "text": [
      "4\n"
     ]
    }
   ],
   "source": [
    "resultado = 17 % 5 *2\n",
    "print(resultado)\n"
   ]
  },
  {
   "cell_type": "markdown",
   "metadata": {},
   "source": [
    "#5\n",
    "expr5 = -2 ** 2\n",
    "1. Se hace primero la potencia del 2^2\n",
    "2. El simbolo negativo va despues asi que da -4"
   ]
  },
  {
   "cell_type": "code",
   "execution_count": 13,
   "metadata": {},
   "outputs": [
    {
     "name": "stdout",
     "output_type": "stream",
     "text": [
      "-4\n"
     ]
    }
   ],
   "source": [
    "resultado = -2 ** 2\n",
    "print(resultado)"
   ]
  },
  {
   "cell_type": "markdown",
   "metadata": {},
   "source": [
    "#6\n",
    "expr6 = 3 + 4 * 2 ** 2 // 3\n",
    "1. primero se realiza el exponecial de 2^2\n",
    "2. De lo que salga se multiplica por 4\n",
    "3. de lo que salga de la multiplicacion se divida entre 3 y debe salir entero\n",
    "4. Por ultimo se suma el 3"
   ]
  },
  {
   "cell_type": "code",
   "execution_count": 14,
   "metadata": {},
   "outputs": [
    {
     "name": "stdout",
     "output_type": "stream",
     "text": [
      "8\n"
     ]
    }
   ],
   "source": [
    "resultado = 3 + 4 * 2 ** 2 // 3\n",
    "print(resultado)"
   ]
  },
  {
   "cell_type": "markdown",
   "metadata": {},
   "source": [
    "#7\n",
    "expr7 = 3 < 4 < 5\n",
    "1. Se hace las comparaciones 3 menor que 4 y si es verdad(true)\n",
    "2. Y 4 menor que 5 es verdad(true)"
   ]
  },
  {
   "cell_type": "code",
   "execution_count": 15,
   "metadata": {},
   "outputs": [
    {
     "name": "stdout",
     "output_type": "stream",
     "text": [
      "True\n"
     ]
    }
   ],
   "source": [
    "resultado = 3 < 4 < 5\n",
    "print(resultado)"
   ]
  },
  {
   "cell_type": "markdown",
   "metadata": {},
   "source": [
    "#8\n",
    "expr8 = (3 > 2) and (5 < 10) or False\n",
    "1. Primero se compara el 3 si es mayor que 2\n",
    "2. Despues se compara el 5 si es menor que 10 \n",
    "3. Como las dos comparacones esta bien es verdad al contrario si una de las dos esta mal da false"
   ]
  },
  {
   "cell_type": "code",
   "execution_count": 16,
   "metadata": {},
   "outputs": [
    {
     "name": "stdout",
     "output_type": "stream",
     "text": [
      "True\n"
     ]
    }
   ],
   "source": [
    "resultado = (3 > 2) and (5 < 10) or False\n",
    "print(resultado)"
   ]
  },
  {
   "cell_type": "markdown",
   "metadata": {},
   "source": [
    "#9\n",
    "expr9 = 5 & 3 + 1\n",
    "1. Primero se suma el 3 con el 1 \n",
    "2. Se saca el numero binario de 5(0101) y de la suma que dio 4(0100)\n",
    "3. Despues se realiza un AND que es los bits prendidos dan 1 y apagado 0"
   ]
  },
  {
   "cell_type": "code",
   "execution_count": 17,
   "metadata": {},
   "outputs": [
    {
     "name": "stdout",
     "output_type": "stream",
     "text": [
      "4\n"
     ]
    }
   ],
   "source": [
    "resultado = 5 & 3 + 1\n",
    "print(resultado)"
   ]
  },
  {
   "cell_type": "markdown",
   "metadata": {},
   "source": [
    "#10\n",
    "expr10 = (2 + 3) * 4 ** 2 // (5 % 3) and not False\n",
    "1. Se hace primero la suma de 2 mas 3\n",
    "2. Despues se hace la division de 5 entre 3 y obtener solo el residuo que da 2\n",
    "3. Se eleva el 4^2 que da 16\n",
    "4. Se multplica el 5 por el 16 que da 80\n",
    "5. Ya para finalizar se hace la division de 80 // 2\n",
    "6. Asi que el 40 no es falso asi que es verdad"
   ]
  },
  {
   "cell_type": "code",
   "execution_count": null,
   "metadata": {},
   "outputs": [
    {
     "name": "stdout",
     "output_type": "stream",
     "text": [
      "40\n"
     ]
    }
   ],
   "source": [
    "resultado = (2 + 3) * 4 ** 2 // (5 % 3) and not False\n",
    "print(resultado)"
   ]
  },
  {
   "cell_type": "markdown",
   "metadata": {},
   "source": [
    "#11\n",
    "expr11 =  ((65 & 66) > 70 ) And not (65 ^ 66) == 0 \n",
    "1. Primero se realiza un and del 65(1000001) y 66 (1000010) que da 64\n",
    "2. Y luego se compara el 64 si es mayor que 70 asi que no es falso\n",
    "3. luego se hace el XOR de 65(1000001) y de 66(1000010) que da 3(0000011)\n",
    "4. Se compara a 0 si es igual a 0 asi que da falso ya que 3 no es igual a 0\n",
    "5. Se negara el falso que dio, asi que da verdadero\n",
    "6. Asi que al final falso y verdadero da falso = false"
   ]
  },
  {
   "cell_type": "code",
   "execution_count": 23,
   "metadata": {},
   "outputs": [
    {
     "name": "stdout",
     "output_type": "stream",
     "text": [
      "False\n"
     ]
    }
   ],
   "source": [
    "resultado = ((65 & 66) > 70 ) and not (65 ^ 66) == 0 \n",
    "print(resultado)"
   ]
  }
 ],
 "metadata": {
  "kernelspec": {
   "display_name": "Python 3",
   "language": "python",
   "name": "python3"
  },
  "language_info": {
   "codemirror_mode": {
    "name": "ipython",
    "version": 3
   },
   "file_extension": ".py",
   "mimetype": "text/x-python",
   "name": "python",
   "nbconvert_exporter": "python",
   "pygments_lexer": "ipython3",
   "version": "3.11.4"
  }
 },
 "nbformat": 4,
 "nbformat_minor": 2
}
